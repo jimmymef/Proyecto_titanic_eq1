{
  "cells": [
    {
      "cell_type": "markdown",
      "metadata": {
        "id": "wmTZeA3yhOKu"
      },
      "source": [
        "## 1.Data Cleaning\n",
        "\n"
      ]
    },
    {
      "cell_type": "code",
      "execution_count": 2,
      "metadata": {
        "id": "A921bjCL05wk"
      },
      "outputs": [],
      "source": [
        "import re\n",
        "import numpy as np\n",
        "import pandas as pd"
      ]
    },
    {
      "cell_type": "code",
      "execution_count": 3,
      "metadata": {
        "id": "fmH2j0d605wm"
      },
      "outputs": [],
      "source": [
        "URL = 'https://www.openml.org/data/get_csv/16826755/phpMYEkMl'\n",
        "# Loading data from specific url\n",
        "df = pd.read_csv(URL)"
      ]
    },
    {
      "cell_type": "code",
      "execution_count": 4,
      "metadata": {
        "id": "VTnrkfDnlale"
      },
      "outputs": [],
      "source": [
        "# Uncovering missing data\n",
        "df.replace('?', np.nan, inplace=True)\n",
        "df['age'] = df['age'].astype('float')\n",
        "df['fare'] = df['fare'].astype('float')"
      ]
    },
    {
      "cell_type": "code",
      "execution_count": 5,
      "metadata": {
        "id": "Oi0Wjdualt1N"
      },
      "outputs": [],
      "source": [
        "# helper function 1\n",
        "def get_first_cabin(row):\n",
        "    try:\n",
        "        return row.split()[0]\n",
        "    except:\n",
        "        return np.nan\n",
        "# Keep only one cabin\n",
        "df['cabin'] = df['cabin'].apply(get_first_cabin)"
      ]
    },
    {
      "cell_type": "code",
      "execution_count": 6,
      "metadata": {
        "id": "5CLfHGEYlwj5"
      },
      "outputs": [],
      "source": [
        "# helper function 2\n",
        "def get_title(passenger):\n",
        "    line = passenger\n",
        "    if re.search('Mrs', line):\n",
        "        return 'Mrs'\n",
        "    elif re.search('Mr', line):\n",
        "        return 'Mr'\n",
        "    elif re.search('Miss', line):\n",
        "        return 'Miss'\n",
        "    elif re.search('Master', line):\n",
        "        return 'Master'\n",
        "    else:\n",
        "        return 'Other'\n",
        "# Extract the title from 'name'\n",
        "df['title'] = df['name'].apply(get_title)"
      ]
    },
    {
      "cell_type": "code",
      "execution_count": 7,
      "metadata": {
        "id": "8og8ehCZl6jS"
      },
      "outputs": [],
      "source": [
        "# Droping irrelevant columns\n",
        "DROP_COLS = ['boat','body','home.dest','ticket','name']\n",
        "df.drop(DROP_COLS, axis=1, inplace=True)"
      ]
    },
    {
      "cell_type": "code",
      "execution_count": 8,
      "metadata": {
        "id": "CEyX6ID8vu6Y"
      },
      "outputs": [],
      "source": [
        "target = 'survived'\n",
        "num_vars = [col for col in df.columns if df[col].dtype != object and col != target]\n",
        "cat_vars = [col for col in df.columns if df[col].dtype == object and col != target]"
      ]
    },
    {
      "cell_type": "markdown",
      "metadata": {
        "id": "BTW3Zglg05wo"
      },
      "source": [
        "## **2. Data Segregation API**\n",
        "\n",
        "In here, the (reproducible) train/test split occurs and both data sets are stored. The reason to persist these data is the following: in the future, the <ins>Model Evaluation Service</ins> will send a request (to the <ins>Data Segregation API</ins>) to get the test set and apply the appropriate metrics for each mode in the <ins>Model Candidate Data Store</ins>."
      ]
    },
    {
      "cell_type": "code",
      "execution_count": 9,
      "metadata": {
        "colab": {
          "base_uri": "https://localhost:8080/"
        },
        "id": "W7GChFSW05wo",
        "outputId": "599e548f-b481-4487-fcd4-1782786d541a"
      },
      "outputs": [
        {
          "data": {
            "text/plain": [
              "((1047, 9), (262, 9))"
            ]
          },
          "execution_count": 9,
          "metadata": {},
          "output_type": "execute_result"
        }
      ],
      "source": [
        "from sklearn.model_selection import train_test_split\n",
        "\n",
        "SEED_SPLIT = 404\n",
        "\n",
        "X_train, X_test, y_train, y_test = train_test_split(\n",
        "    df.drop(target, axis=1), df[target], test_size=0.2,\n",
        "    random_state=SEED_SPLIT)\n",
        "\n",
        "TRAIN_DATA_FILE = 'train.csv'\n",
        "TEST_DATA_FILE  = 'test.csv'\n",
        "\n",
        "X_train.to_csv(TRAIN_DATA_FILE, index=False)\n",
        "X_test.to_csv(TEST_DATA_FILE, index=False)\n",
        "\n",
        "X_train.shape, X_test.shape\n"
      ]
    },
    {
      "cell_type": "code",
      "execution_count": 10,
      "metadata": {
        "colab": {
          "base_uri": "https://localhost:8080/"
        },
        "id": "rVGrGXf-ywtL",
        "outputId": "21c31316-2958-4d18-e28c-a9545d67f608"
      },
      "outputs": [
        {
          "data": {
            "text/html": [
              "<div>\n",
              "<style scoped>\n",
              "    .dataframe tbody tr th:only-of-type {\n",
              "        vertical-align: middle;\n",
              "    }\n",
              "\n",
              "    .dataframe tbody tr th {\n",
              "        vertical-align: top;\n",
              "    }\n",
              "\n",
              "    .dataframe thead th {\n",
              "        text-align: right;\n",
              "    }\n",
              "</style>\n",
              "<table border=\"1\" class=\"dataframe\">\n",
              "  <thead>\n",
              "    <tr style=\"text-align: right;\">\n",
              "      <th></th>\n",
              "      <th>pclass</th>\n",
              "      <th>sex</th>\n",
              "      <th>age</th>\n",
              "      <th>sibsp</th>\n",
              "      <th>parch</th>\n",
              "      <th>fare</th>\n",
              "      <th>cabin</th>\n",
              "      <th>embarked</th>\n",
              "      <th>title</th>\n",
              "    </tr>\n",
              "  </thead>\n",
              "  <tbody>\n",
              "    <tr>\n",
              "      <th>1162</th>\n",
              "      <td>3</td>\n",
              "      <td>male</td>\n",
              "      <td>NaN</td>\n",
              "      <td>0</td>\n",
              "      <td>0</td>\n",
              "      <td>7.7500</td>\n",
              "      <td>NaN</td>\n",
              "      <td>Q</td>\n",
              "      <td>Mr</td>\n",
              "    </tr>\n",
              "    <tr>\n",
              "      <th>899</th>\n",
              "      <td>3</td>\n",
              "      <td>female</td>\n",
              "      <td>27.0</td>\n",
              "      <td>0</td>\n",
              "      <td>2</td>\n",
              "      <td>11.1333</td>\n",
              "      <td>NaN</td>\n",
              "      <td>S</td>\n",
              "      <td>Mrs</td>\n",
              "    </tr>\n",
              "    <tr>\n",
              "      <th>1006</th>\n",
              "      <td>3</td>\n",
              "      <td>female</td>\n",
              "      <td>NaN</td>\n",
              "      <td>0</td>\n",
              "      <td>0</td>\n",
              "      <td>7.8792</td>\n",
              "      <td>NaN</td>\n",
              "      <td>Q</td>\n",
              "      <td>Miss</td>\n",
              "    </tr>\n",
              "    <tr>\n",
              "      <th>228</th>\n",
              "      <td>1</td>\n",
              "      <td>male</td>\n",
              "      <td>18.0</td>\n",
              "      <td>1</td>\n",
              "      <td>0</td>\n",
              "      <td>108.9000</td>\n",
              "      <td>C65</td>\n",
              "      <td>C</td>\n",
              "      <td>Mr</td>\n",
              "    </tr>\n",
              "    <tr>\n",
              "      <th>573</th>\n",
              "      <td>2</td>\n",
              "      <td>female</td>\n",
              "      <td>27.0</td>\n",
              "      <td>0</td>\n",
              "      <td>0</td>\n",
              "      <td>10.5000</td>\n",
              "      <td>E101</td>\n",
              "      <td>S</td>\n",
              "      <td>Miss</td>\n",
              "    </tr>\n",
              "    <tr>\n",
              "      <th>...</th>\n",
              "      <td>...</td>\n",
              "      <td>...</td>\n",
              "      <td>...</td>\n",
              "      <td>...</td>\n",
              "      <td>...</td>\n",
              "      <td>...</td>\n",
              "      <td>...</td>\n",
              "      <td>...</td>\n",
              "      <td>...</td>\n",
              "    </tr>\n",
              "    <tr>\n",
              "      <th>71</th>\n",
              "      <td>1</td>\n",
              "      <td>male</td>\n",
              "      <td>27.0</td>\n",
              "      <td>1</td>\n",
              "      <td>0</td>\n",
              "      <td>136.7792</td>\n",
              "      <td>C89</td>\n",
              "      <td>C</td>\n",
              "      <td>Mr</td>\n",
              "    </tr>\n",
              "    <tr>\n",
              "      <th>609</th>\n",
              "      <td>3</td>\n",
              "      <td>male</td>\n",
              "      <td>26.0</td>\n",
              "      <td>0</td>\n",
              "      <td>0</td>\n",
              "      <td>8.0500</td>\n",
              "      <td>NaN</td>\n",
              "      <td>S</td>\n",
              "      <td>Mr</td>\n",
              "    </tr>\n",
              "    <tr>\n",
              "      <th>625</th>\n",
              "      <td>3</td>\n",
              "      <td>female</td>\n",
              "      <td>17.0</td>\n",
              "      <td>4</td>\n",
              "      <td>2</td>\n",
              "      <td>7.9250</td>\n",
              "      <td>NaN</td>\n",
              "      <td>S</td>\n",
              "      <td>Miss</td>\n",
              "    </tr>\n",
              "    <tr>\n",
              "      <th>1012</th>\n",
              "      <td>3</td>\n",
              "      <td>female</td>\n",
              "      <td>NaN</td>\n",
              "      <td>0</td>\n",
              "      <td>0</td>\n",
              "      <td>7.7500</td>\n",
              "      <td>NaN</td>\n",
              "      <td>Q</td>\n",
              "      <td>Miss</td>\n",
              "    </tr>\n",
              "    <tr>\n",
              "      <th>1206</th>\n",
              "      <td>3</td>\n",
              "      <td>male</td>\n",
              "      <td>4.0</td>\n",
              "      <td>3</td>\n",
              "      <td>2</td>\n",
              "      <td>27.9000</td>\n",
              "      <td>NaN</td>\n",
              "      <td>S</td>\n",
              "      <td>Master</td>\n",
              "    </tr>\n",
              "  </tbody>\n",
              "</table>\n",
              "<p>1047 rows × 9 columns</p>\n",
              "</div>"
            ],
            "text/plain": [
              "      pclass     sex   age  sibsp  parch      fare cabin embarked   title\n",
              "1162       3    male   NaN      0      0    7.7500   NaN        Q      Mr\n",
              "899        3  female  27.0      0      2   11.1333   NaN        S     Mrs\n",
              "1006       3  female   NaN      0      0    7.8792   NaN        Q    Miss\n",
              "228        1    male  18.0      1      0  108.9000   C65        C      Mr\n",
              "573        2  female  27.0      0      0   10.5000  E101        S    Miss\n",
              "...      ...     ...   ...    ...    ...       ...   ...      ...     ...\n",
              "71         1    male  27.0      1      0  136.7792   C89        C      Mr\n",
              "609        3    male  26.0      0      0    8.0500   NaN        S      Mr\n",
              "625        3  female  17.0      4      2    7.9250   NaN        S    Miss\n",
              "1012       3  female   NaN      0      0    7.7500   NaN        Q    Miss\n",
              "1206       3    male   4.0      3      2   27.9000   NaN        S  Master\n",
              "\n",
              "[1047 rows x 9 columns]"
            ]
          },
          "execution_count": 10,
          "metadata": {},
          "output_type": "execute_result"
        }
      ],
      "source": [
        "X_train"
      ]
    },
    {
      "cell_type": "markdown",
      "metadata": {
        "id": "wA2kOJ8f05wp"
      },
      "source": [
        "## **3. Feature engineering & Training pipeline**\n",
        "\n",
        "- In this part, we divide the features into two groups: features without persisting information and features with persisting information. The difference is that in the latter, we learn certain values from the train set in order to be applied to the test set.\n",
        "- In this case, we decided not to store the individual features into a <ins>Feature Data Store</ins> due to the simple nature of our example."
      ]
    },
    {
      "cell_type": "markdown",
      "metadata": {
        "id": "9wIzLX3b05wq"
      },
      "source": [
        "### **3.1. Without persisting information**"
      ]
    },
    {
      "cell_type": "markdown",
      "metadata": {
        "id": "DnsEk7bk05wq"
      },
      "source": [
        "#### **Numerical variables**\n",
        "\n",
        "- Create missing value indicator: only for numeric variables"
      ]
    },
    {
      "cell_type": "code",
      "execution_count": 11,
      "metadata": {
        "id": "FaXs5BLx05wq"
      },
      "outputs": [],
      "source": [
        "def missing_indicator(data, col_name):\n",
        "    data[col_name+'_nan'] = data[col_name].isnull().astype(int)\n"
      ]
    },
    {
      "cell_type": "code",
      "execution_count": 12,
      "metadata": {
        "id": "8CocoX-I05wq"
      },
      "outputs": [],
      "source": [
        "for var in num_vars:\n",
        "    missing_indicator(X_train, var)\n",
        "    missing_indicator(X_test, var)"
      ]
    },
    {
      "cell_type": "code",
      "execution_count": 13,
      "metadata": {
        "colab": {
          "base_uri": "https://localhost:8080/"
        },
        "id": "oJX2Z2QK05wr",
        "outputId": "aeb1cae0-8c3a-493d-f3bd-e5f674597d7f"
      },
      "outputs": [
        {
          "data": {
            "text/plain": [
              "F      7\n",
              "C23    5\n",
              "F33    4\n",
              "F4     4\n",
              "C78    4\n",
              "      ..\n",
              "A19    1\n",
              "A36    1\n",
              "B86    1\n",
              "B80    1\n",
              "B22    1\n",
              "Name: cabin, Length: 155, dtype: int64"
            ]
          },
          "execution_count": 13,
          "metadata": {},
          "output_type": "execute_result"
        }
      ],
      "source": [
        "X_train.cabin.value_counts()"
      ]
    },
    {
      "cell_type": "markdown",
      "metadata": {
        "id": "juyTOQdO05wr"
      },
      "source": [
        "#### **Categorical variables**\n",
        "\n",
        "We are only interested in the letter of the cabin, let's get it"
      ]
    },
    {
      "cell_type": "code",
      "execution_count": 14,
      "metadata": {
        "id": "ilC1DYfcd2qM"
      },
      "outputs": [],
      "source": [
        "def extract_letter_from_cabin(x):\n",
        "    if type(x)==str:    \n",
        "        return ''.join(re.findall(\"[a-zA-Z]+\", x))  \n",
        "    return x\n",
        "        \n",
        "X_train['cabin'] = X_train['cabin'].apply(extract_letter_from_cabin)\n",
        "X_test['cabin'] = X_test['cabin'].apply(extract_letter_from_cabin)\n"
      ]
    },
    {
      "cell_type": "code",
      "execution_count": 15,
      "metadata": {
        "colab": {
          "base_uri": "https://localhost:8080/"
        },
        "id": "kOH8i1ug05wr",
        "outputId": "b5efd045-17a7-4e26-b31f-c568fc1ee5c2"
      },
      "outputs": [
        {
          "data": {
            "text/plain": [
              "(array([nan, 'C', 'E', 'B', 'F', 'D', 'A', 'G'], dtype=object),\n",
              " array(['D', nan, 'A', 'B', 'C', 'E', 'G', 'T', 'F'], dtype=object))"
            ]
          },
          "execution_count": 15,
          "metadata": {},
          "output_type": "execute_result"
        }
      ],
      "source": [
        "X_train['cabin'].unique(), X_test['cabin'].unique()"
      ]
    },
    {
      "cell_type": "markdown",
      "metadata": {
        "id": "t1x8EUb-Zd7w"
      },
      "source": [
        "**Remark:** Notice that we have a cabin in the test set that was not observed in the train set."
      ]
    },
    {
      "cell_type": "code",
      "execution_count": 16,
      "metadata": {
        "id": "rv3kOYzjtDJD"
      },
      "outputs": [],
      "source": [
        "from sklearn.base import BaseEstimator, TransformerMixin\n",
        "from typing import List\n",
        "\n",
        "class CategoricalImputerEncoder(BaseEstimator, TransformerMixin):\n",
        "    def __init__(self, variables: List[str]):   \n",
        "        self.variables = variables\n",
        "    \n",
        "    def fit(self, X: pd.DataFrame):\n",
        "        return self\n",
        "    \n",
        "    def transform(self, X: pd.DataFrame):\n",
        "        X[self.variables] = X[self.variables].fillna('missing')\n",
        "        return X\n"
      ]
    },
    {
      "cell_type": "code",
      "execution_count": 17,
      "metadata": {
        "id": "royg4-_rvKrs"
      },
      "outputs": [],
      "source": [
        "categ_imputer = CategoricalImputerEncoder(variables=cat_vars)\n",
        "X_train = categ_imputer.transform(X_train)\n",
        "X_test = categ_imputer.transform(X_test)"
      ]
    },
    {
      "cell_type": "code",
      "execution_count": 18,
      "metadata": {
        "colab": {
          "base_uri": "https://localhost:8080/",
          "height": 206
        },
        "id": "cdymwxo_vcIT",
        "outputId": "522915dc-2819-4bb4-e4ad-6e70207cb847"
      },
      "outputs": [
        {
          "data": {
            "text/html": [
              "<div>\n",
              "<style scoped>\n",
              "    .dataframe tbody tr th:only-of-type {\n",
              "        vertical-align: middle;\n",
              "    }\n",
              "\n",
              "    .dataframe tbody tr th {\n",
              "        vertical-align: top;\n",
              "    }\n",
              "\n",
              "    .dataframe thead th {\n",
              "        text-align: right;\n",
              "    }\n",
              "</style>\n",
              "<table border=\"1\" class=\"dataframe\">\n",
              "  <thead>\n",
              "    <tr style=\"text-align: right;\">\n",
              "      <th></th>\n",
              "      <th>pclass</th>\n",
              "      <th>sex</th>\n",
              "      <th>age</th>\n",
              "      <th>sibsp</th>\n",
              "      <th>parch</th>\n",
              "      <th>fare</th>\n",
              "      <th>cabin</th>\n",
              "      <th>embarked</th>\n",
              "      <th>title</th>\n",
              "      <th>pclass_nan</th>\n",
              "      <th>age_nan</th>\n",
              "      <th>sibsp_nan</th>\n",
              "      <th>parch_nan</th>\n",
              "      <th>fare_nan</th>\n",
              "    </tr>\n",
              "  </thead>\n",
              "  <tbody>\n",
              "    <tr>\n",
              "      <th>1162</th>\n",
              "      <td>3</td>\n",
              "      <td>male</td>\n",
              "      <td>NaN</td>\n",
              "      <td>0</td>\n",
              "      <td>0</td>\n",
              "      <td>7.7500</td>\n",
              "      <td>missing</td>\n",
              "      <td>Q</td>\n",
              "      <td>Mr</td>\n",
              "      <td>0</td>\n",
              "      <td>1</td>\n",
              "      <td>0</td>\n",
              "      <td>0</td>\n",
              "      <td>0</td>\n",
              "    </tr>\n",
              "    <tr>\n",
              "      <th>899</th>\n",
              "      <td>3</td>\n",
              "      <td>female</td>\n",
              "      <td>27.0</td>\n",
              "      <td>0</td>\n",
              "      <td>2</td>\n",
              "      <td>11.1333</td>\n",
              "      <td>missing</td>\n",
              "      <td>S</td>\n",
              "      <td>Mrs</td>\n",
              "      <td>0</td>\n",
              "      <td>0</td>\n",
              "      <td>0</td>\n",
              "      <td>0</td>\n",
              "      <td>0</td>\n",
              "    </tr>\n",
              "    <tr>\n",
              "      <th>1006</th>\n",
              "      <td>3</td>\n",
              "      <td>female</td>\n",
              "      <td>NaN</td>\n",
              "      <td>0</td>\n",
              "      <td>0</td>\n",
              "      <td>7.8792</td>\n",
              "      <td>missing</td>\n",
              "      <td>Q</td>\n",
              "      <td>Miss</td>\n",
              "      <td>0</td>\n",
              "      <td>1</td>\n",
              "      <td>0</td>\n",
              "      <td>0</td>\n",
              "      <td>0</td>\n",
              "    </tr>\n",
              "    <tr>\n",
              "      <th>228</th>\n",
              "      <td>1</td>\n",
              "      <td>male</td>\n",
              "      <td>18.0</td>\n",
              "      <td>1</td>\n",
              "      <td>0</td>\n",
              "      <td>108.9000</td>\n",
              "      <td>C</td>\n",
              "      <td>C</td>\n",
              "      <td>Mr</td>\n",
              "      <td>0</td>\n",
              "      <td>0</td>\n",
              "      <td>0</td>\n",
              "      <td>0</td>\n",
              "      <td>0</td>\n",
              "    </tr>\n",
              "    <tr>\n",
              "      <th>573</th>\n",
              "      <td>2</td>\n",
              "      <td>female</td>\n",
              "      <td>27.0</td>\n",
              "      <td>0</td>\n",
              "      <td>0</td>\n",
              "      <td>10.5000</td>\n",
              "      <td>E</td>\n",
              "      <td>S</td>\n",
              "      <td>Miss</td>\n",
              "      <td>0</td>\n",
              "      <td>0</td>\n",
              "      <td>0</td>\n",
              "      <td>0</td>\n",
              "      <td>0</td>\n",
              "    </tr>\n",
              "  </tbody>\n",
              "</table>\n",
              "</div>"
            ],
            "text/plain": [
              "      pclass     sex   age  sibsp  parch      fare    cabin embarked title  \\\n",
              "1162       3    male   NaN      0      0    7.7500  missing        Q    Mr   \n",
              "899        3  female  27.0      0      2   11.1333  missing        S   Mrs   \n",
              "1006       3  female   NaN      0      0    7.8792  missing        Q  Miss   \n",
              "228        1    male  18.0      1      0  108.9000        C        C    Mr   \n",
              "573        2  female  27.0      0      0   10.5000        E        S  Miss   \n",
              "\n",
              "      pclass_nan  age_nan  sibsp_nan  parch_nan  fare_nan  \n",
              "1162           0        1          0          0         0  \n",
              "899            0        0          0          0         0  \n",
              "1006           0        1          0          0         0  \n",
              "228            0        0          0          0         0  \n",
              "573            0        0          0          0         0  "
            ]
          },
          "execution_count": 18,
          "metadata": {},
          "output_type": "execute_result"
        }
      ],
      "source": [
        "X_train.head()"
      ]
    },
    {
      "cell_type": "markdown",
      "metadata": {
        "id": "1_KUi-g805ws"
      },
      "source": [
        "### **3.2. With persisting information**"
      ]
    },
    {
      "cell_type": "markdown",
      "metadata": {
        "id": "fPRwGtii05wu"
      },
      "source": [
        "#### **3.2.1 Categorical variables**\n",
        "\n",
        "- Remove rare labels\n",
        "- One hot encoding\n",
        "- Fix one-hot-encoded features not in test set"
      ]
    },
    {
      "cell_type": "markdown",
      "metadata": {
        "id": "kIstf5kgka3Y"
      },
      "source": [
        "##### Rare Label Encoding"
      ]
    },
    {
      "cell_type": "code",
      "execution_count": 19,
      "metadata": {
        "colab": {
          "base_uri": "https://localhost:8080/"
        },
        "id": "Ky8WyJjKKiHZ",
        "outputId": "5adca36b-e806-4b43-ad5b-b416b2dc7e2d"
      },
      "outputs": [
        {
          "data": {
            "text/plain": [
              "missing    810\n",
              "C           74\n",
              "B           53\n",
              "E           36\n",
              "D           35\n",
              "F           20\n",
              "A           16\n",
              "G            3\n",
              "Name: cabin, dtype: int64"
            ]
          },
          "execution_count": 19,
          "metadata": {},
          "output_type": "execute_result"
        }
      ],
      "source": [
        "X_train.cabin.value_counts()"
      ]
    },
    {
      "cell_type": "code",
      "execution_count": 20,
      "metadata": {
        "id": "JCJmeIFRv1HK"
      },
      "outputs": [],
      "source": [
        "class RareLabelCategoricalEncoder(BaseEstimator, TransformerMixin):\n",
        "    def __init__(self, tol=0.02, variables: List[str] = None):\n",
        "        self.tol =tol\n",
        "        self.variables = variables\n",
        "    \n",
        "    def fit(self, X: pd.DataFrame):\n",
        "        self.valid_labels_dict = {}\n",
        "        for var in self.variables:\n",
        "            t = X[var].value_counts() / X.shape[0]\n",
        "            self.valid_labels_dict[var] = t[t>self.tol].index.tolist()\n",
        "\n",
        "    def transform(self, X:pd.DataFrame):\n",
        "        for var in self.variables:\n",
        "            tmp = [col for col in X[var].unique() if col not in self.valid_labels_dict[var]]\n",
        "            X[var] = X[var].replace(to_replace=tmp, value=len(tmp) * ['Rare'])\n",
        "        return X"
      ]
    },
    {
      "cell_type": "code",
      "execution_count": 21,
      "metadata": {
        "id": "kq_5xt4n05wu"
      },
      "outputs": [],
      "source": [
        "rare_labels = RareLabelCategoricalEncoder(tol=0.02, variables=cat_vars)\n",
        "rare_labels.fit(X_train)\n",
        "X_train = rare_labels.transform(X_train)\n",
        "X_test  = rare_labels.transform(X_test)"
      ]
    },
    {
      "cell_type": "code",
      "execution_count": 22,
      "metadata": {
        "colab": {
          "base_uri": "https://localhost:8080/"
        },
        "id": "0QnJpk5wxb91",
        "outputId": "39fcdb3b-a641-4317-efe3-2ea74601256e"
      },
      "outputs": [
        {
          "data": {
            "text/plain": [
              "missing    810\n",
              "C           74\n",
              "B           53\n",
              "Rare        39\n",
              "E           36\n",
              "D           35\n",
              "Name: cabin, dtype: int64"
            ]
          },
          "execution_count": 22,
          "metadata": {},
          "output_type": "execute_result"
        }
      ],
      "source": [
        "X_train.cabin.value_counts()"
      ]
    },
    {
      "cell_type": "markdown",
      "metadata": {
        "id": "r1OM08dekf9z"
      },
      "source": [
        "##### One Hot Encoding"
      ]
    },
    {
      "cell_type": "code",
      "execution_count": 23,
      "metadata": {
        "colab": {
          "base_uri": "https://localhost:8080/"
        },
        "id": "i3uqZduArHM7",
        "outputId": "31c3c0d4-02e0-40db-e039-63106a98903a"
      },
      "outputs": [],
      "source": [
        "from sklearn.preprocessing import OneHotEncoder\n",
        "enc = OneHotEncoder(handle_unknown='ignore', drop='first')\n",
        "enc.fit(X_train[cat_vars])\n",
        "X_train[enc.get_feature_names_out(cat_vars)] = enc.transform(X_train[cat_vars]).toarray()\n",
        "X_test[enc.get_feature_names_out(cat_vars)] = enc.transform(X_test[cat_vars]).toarray()\n",
        "\n",
        "X_train.drop(cat_vars, axis=1, inplace=True)\n",
        "X_test.drop(cat_vars, axis=1, inplace=True)"
      ]
    },
    {
      "cell_type": "code",
      "execution_count": 24,
      "metadata": {
        "colab": {
          "base_uri": "https://localhost:8080/"
        },
        "id": "eDyTexddwM2t",
        "outputId": "325affc8-ff91-47f8-b13f-270c528757de"
      },
      "outputs": [
        {
          "name": "stdout",
          "output_type": "stream",
          "text": [
            "<class 'pandas.core.frame.DataFrame'>\n",
            "Int64Index: 1047 entries, 1162 to 1206\n",
            "Data columns (total 23 columns):\n",
            " #   Column         Non-Null Count  Dtype  \n",
            "---  ------         --------------  -----  \n",
            " 0   pclass         1047 non-null   int64  \n",
            " 1   age            827 non-null    float64\n",
            " 2   sibsp          1047 non-null   int64  \n",
            " 3   parch          1047 non-null   int64  \n",
            " 4   fare           1046 non-null   float64\n",
            " 5   pclass_nan     1047 non-null   int32  \n",
            " 6   age_nan        1047 non-null   int32  \n",
            " 7   sibsp_nan      1047 non-null   int32  \n",
            " 8   parch_nan      1047 non-null   int32  \n",
            " 9   fare_nan       1047 non-null   int32  \n",
            " 10  sex_male       1047 non-null   float64\n",
            " 11  cabin_C        1047 non-null   float64\n",
            " 12  cabin_D        1047 non-null   float64\n",
            " 13  cabin_E        1047 non-null   float64\n",
            " 14  cabin_Rare     1047 non-null   float64\n",
            " 15  cabin_missing  1047 non-null   float64\n",
            " 16  embarked_Q     1047 non-null   float64\n",
            " 17  embarked_Rare  1047 non-null   float64\n",
            " 18  embarked_S     1047 non-null   float64\n",
            " 19  title_Miss     1047 non-null   float64\n",
            " 20  title_Mr       1047 non-null   float64\n",
            " 21  title_Mrs      1047 non-null   float64\n",
            " 22  title_Other    1047 non-null   float64\n",
            "dtypes: float64(15), int32(5), int64(3)\n",
            "memory usage: 175.9 KB\n"
          ]
        }
      ],
      "source": [
        "X_train.info()"
      ]
    },
    {
      "cell_type": "markdown",
      "metadata": {
        "id": "u9bSl-p_kzyu"
      },
      "source": [
        "#### 3.2.2 Numerical Variables\n"
      ]
    },
    {
      "cell_type": "markdown",
      "metadata": {
        "id": "cT9dkD0NleOm"
      },
      "source": [
        "##### Imputation\n",
        "- Fill NaN with median"
      ]
    },
    {
      "cell_type": "code",
      "execution_count": 87,
      "metadata": {
        "colab": {
          "base_uri": "https://localhost:8080/"
        },
        "id": "lBifpOLf05wt",
        "outputId": "fab833b8-74a3-4707-858e-7056cacca62a"
      },
      "outputs": [
        {
          "data": {
            "text/plain": [
              "SimpleImputer(strategy='median')"
            ]
          },
          "execution_count": 87,
          "metadata": {},
          "output_type": "execute_result"
        }
      ],
      "source": [
        "from sklearn.impute import SimpleImputer\n",
        "\n",
        "imp_median = SimpleImputer(strategy='median')\n",
        "imp_median.fit(X_train[num_vars])"
      ]
    },
    {
      "cell_type": "code",
      "execution_count": 88,
      "metadata": {
        "colab": {
          "base_uri": "https://localhost:8080/"
        },
        "id": "pQWBhawr05wt",
        "outputId": "0c9f1fa9-e804-4292-eaca-8e599e585ee8"
      },
      "outputs": [
        {
          "data": {
            "text/plain": [
              "array([ 3.    , 28.    ,  0.    ,  0.    , 14.4542])"
            ]
          },
          "execution_count": 88,
          "metadata": {},
          "output_type": "execute_result"
        }
      ],
      "source": [
        "imp_median.statistics_"
      ]
    },
    {
      "cell_type": "code",
      "execution_count": 89,
      "metadata": {
        "id": "uOH5xhZM05wt"
      },
      "outputs": [],
      "source": [
        "X_train[num_vars] = imp_median.transform(X_train[num_vars])\n",
        "X_test[num_vars]  = imp_median.transform(X_test[num_vars])"
      ]
    },
    {
      "cell_type": "code",
      "execution_count": 90,
      "metadata": {
        "colab": {
          "base_uri": "https://localhost:8080/"
        },
        "id": "vo49d8Zka7SW",
        "outputId": "e0674bef-0ccf-43c1-e41a-8ce67a63cc32"
      },
      "outputs": [
        {
          "name": "stdout",
          "output_type": "stream",
          "text": [
            "<class 'pandas.core.frame.DataFrame'>\n",
            "Int64Index: 1047 entries, 1162 to 1206\n",
            "Data columns (total 23 columns):\n",
            " #   Column         Non-Null Count  Dtype  \n",
            "---  ------         --------------  -----  \n",
            " 0   pclass         1047 non-null   float64\n",
            " 1   age            1047 non-null   float64\n",
            " 2   sibsp          1047 non-null   float64\n",
            " 3   parch          1047 non-null   float64\n",
            " 4   fare           1047 non-null   float64\n",
            " 5   pclass_nan     1047 non-null   int32  \n",
            " 6   age_nan        1047 non-null   int32  \n",
            " 7   sibsp_nan      1047 non-null   int32  \n",
            " 8   parch_nan      1047 non-null   int32  \n",
            " 9   fare_nan       1047 non-null   int32  \n",
            " 10  sex_male       1047 non-null   float64\n",
            " 11  cabin_C        1047 non-null   float64\n",
            " 12  cabin_D        1047 non-null   float64\n",
            " 13  cabin_E        1047 non-null   float64\n",
            " 14  cabin_Rare     1047 non-null   float64\n",
            " 15  cabin_missing  1047 non-null   float64\n",
            " 16  embarked_Q     1047 non-null   float64\n",
            " 17  embarked_Rare  1047 non-null   float64\n",
            " 18  embarked_S     1047 non-null   float64\n",
            " 19  title_Miss     1047 non-null   float64\n",
            " 20  title_Mr       1047 non-null   float64\n",
            " 21  title_Mrs      1047 non-null   float64\n",
            " 22  title_Other    1047 non-null   float64\n",
            "dtypes: float64(18), int32(5)\n",
            "memory usage: 175.9 KB\n"
          ]
        }
      ],
      "source": [
        "X_train.info()"
      ]
    },
    {
      "cell_type": "markdown",
      "metadata": {
        "id": "ualBJduv05wv"
      },
      "source": [
        "#####**Normalization with MinMaxScaler**"
      ]
    },
    {
      "cell_type": "code",
      "execution_count": 91,
      "metadata": {
        "id": "CswE00YC05wv"
      },
      "outputs": [],
      "source": [
        "from sklearn.preprocessing import MinMaxScaler\n",
        "scaler = MinMaxScaler()\n",
        "scaler.fit(X_train)\n",
        "\n",
        "X_train_scaled = scaler.transform(X_train)\n",
        "X_test_scaled  = scaler.transform(X_test)"
      ]
    },
    {
      "cell_type": "markdown",
      "metadata": {
        "id": "P1pDB4KH05wv"
      },
      "source": [
        "## **4. Training a model**"
      ]
    },
    {
      "cell_type": "markdown",
      "metadata": {
        "id": "-epiXQWLl81t"
      },
      "source": [
        "### Training"
      ]
    },
    {
      "cell_type": "code",
      "execution_count": 92,
      "metadata": {
        "colab": {
          "base_uri": "https://localhost:8080/"
        },
        "id": "2iNvrAZO05wv",
        "outputId": "15454eab-8d60-4dbb-b556-e7304f832df9"
      },
      "outputs": [
        {
          "data": {
            "text/plain": [
              "LogisticRegression(C=0.0005, class_weight='balanced', random_state=404)"
            ]
          },
          "execution_count": 92,
          "metadata": {},
          "output_type": "execute_result"
        }
      ],
      "source": [
        "from sklearn.linear_model import LogisticRegression\n",
        "\n",
        "SEED_MODEL = 404\n",
        "\n",
        "model = LogisticRegression(C=0.0005, class_weight='balanced', random_state=SEED_MODEL)\n",
        "model.fit(X_train_scaled, y_train)"
      ]
    },
    {
      "cell_type": "markdown",
      "metadata": {
        "id": "qssq9N1AcgWs"
      },
      "source": [
        "**Remark:** After training, the model should be stored in the <ins>Model Candidate Data Store</ins>"
      ]
    },
    {
      "cell_type": "markdown",
      "metadata": {
        "id": "RXZ2Q4womDTY"
      },
      "source": [
        "### Evaluation"
      ]
    },
    {
      "cell_type": "code",
      "execution_count": 93,
      "metadata": {
        "colab": {
          "base_uri": "https://localhost:8080/"
        },
        "id": "_v4E7mQe05ww",
        "outputId": "d5cfb52d-e7c3-4084-97e0-6742aa74b03a"
      },
      "outputs": [
        {
          "name": "stdout",
          "output_type": "stream",
          "text": [
            "train roc-auc : 0.8503119550474714\n",
            "train accuracy: 0.7879656160458453\n",
            "\n",
            "test roc-auc : 0.8134273676497528\n",
            "test accuracy: 0.7709923664122137\n",
            "\n"
          ]
        }
      ],
      "source": [
        "# This part simulates the call of the Model Evaluation Service to the \n",
        "# Data Segregation API to obtain the test set and evaluate the model\n",
        "\n",
        "from sklearn.metrics import accuracy_score, roc_auc_score\n",
        "\n",
        "for s,t in zip(['train','test'],[(X_train_scaled, y_train),(X_test_scaled,y_test)]):\n",
        "    x,y = t[0], t[1]\n",
        "    class_pred = model.predict(x)\n",
        "    proba_pred = model.predict_proba(x)[:,1]\n",
        "    print('{} roc-auc : {}'.format(s, roc_auc_score(y, proba_pred)))\n",
        "    print('{} accuracy: {}'.format(s, accuracy_score(y, class_pred)))\n",
        "    print()"
      ]
    },
    {
      "cell_type": "markdown",
      "metadata": {
        "id": "bV3Fc6ICds4d"
      },
      "source": [
        "**Remark:** These metrics (joint with the initial configuration, learnt parameters, metadata of the training set, training times, etc) should be stored in a repository"
      ]
    },
    {
      "cell_type": "markdown",
      "metadata": {
        "id": "twpHieMDmV4B"
      },
      "source": [
        "### Predictions"
      ]
    },
    {
      "cell_type": "markdown",
      "metadata": {
        "id": "lh1VRiyQekx4"
      },
      "source": [
        "Now, we simulate the <ins>Scoring Service</ins> which generates the predictions and store them in the <ins>Score Data Store</ins> and send them to the customer."
      ]
    },
    {
      "cell_type": "code",
      "execution_count": 94,
      "metadata": {
        "colab": {
          "base_uri": "https://localhost:8080/",
          "height": 528
        },
        "id": "rrj-Bwwf05ww",
        "outputId": "c6ba63d5-ed9c-45ea-a08b-a82cd832aaa8"
      },
      "outputs": [
        {
          "name": "stderr",
          "output_type": "stream",
          "text": [
            "C:\\Users\\jmendez\\Anaconda3\\envs\\TecMty\\lib\\site-packages\\sklearn\\base.py:443: UserWarning: X has feature names, but LogisticRegression was fitted without feature names\n",
            "  warnings.warn(\n",
            "C:\\Users\\jmendez\\Anaconda3\\envs\\TecMty\\lib\\site-packages\\sklearn\\base.py:443: UserWarning: X has feature names, but LogisticRegression was fitted without feature names\n",
            "  warnings.warn(\n"
          ]
        },
        {
          "data": {
            "text/html": [
              "<div>\n",
              "<style scoped>\n",
              "    .dataframe tbody tr th:only-of-type {\n",
              "        vertical-align: middle;\n",
              "    }\n",
              "\n",
              "    .dataframe tbody tr th {\n",
              "        vertical-align: top;\n",
              "    }\n",
              "\n",
              "    .dataframe thead th {\n",
              "        text-align: right;\n",
              "    }\n",
              "</style>\n",
              "<table border=\"1\" class=\"dataframe\">\n",
              "  <thead>\n",
              "    <tr style=\"text-align: right;\">\n",
              "      <th></th>\n",
              "      <th>pclass</th>\n",
              "      <th>age</th>\n",
              "      <th>sibsp</th>\n",
              "      <th>parch</th>\n",
              "      <th>fare</th>\n",
              "      <th>pclass_nan</th>\n",
              "      <th>age_nan</th>\n",
              "      <th>sibsp_nan</th>\n",
              "      <th>parch_nan</th>\n",
              "      <th>fare_nan</th>\n",
              "      <th>...</th>\n",
              "      <th>embarked_Q</th>\n",
              "      <th>embarked_Rare</th>\n",
              "      <th>embarked_S</th>\n",
              "      <th>title_Miss</th>\n",
              "      <th>title_Mr</th>\n",
              "      <th>title_Mrs</th>\n",
              "      <th>title_Other</th>\n",
              "      <th>y_true</th>\n",
              "      <th>y_pred</th>\n",
              "      <th>proba_pred</th>\n",
              "    </tr>\n",
              "  </thead>\n",
              "  <tbody>\n",
              "    <tr>\n",
              "      <th>0</th>\n",
              "      <td>0.0</td>\n",
              "      <td>0.724426</td>\n",
              "      <td>0.000</td>\n",
              "      <td>0.222222</td>\n",
              "      <td>0.221098</td>\n",
              "      <td>0.0</td>\n",
              "      <td>0.0</td>\n",
              "      <td>0.0</td>\n",
              "      <td>0.0</td>\n",
              "      <td>0.0</td>\n",
              "      <td>...</td>\n",
              "      <td>0.0</td>\n",
              "      <td>0.0</td>\n",
              "      <td>0.0</td>\n",
              "      <td>0.0</td>\n",
              "      <td>1.0</td>\n",
              "      <td>0.0</td>\n",
              "      <td>0.0</td>\n",
              "      <td>0</td>\n",
              "      <td>1</td>\n",
              "      <td>0.641503</td>\n",
              "    </tr>\n",
              "    <tr>\n",
              "      <th>1</th>\n",
              "      <td>0.5</td>\n",
              "      <td>0.386221</td>\n",
              "      <td>0.125</td>\n",
              "      <td>0.111111</td>\n",
              "      <td>0.051237</td>\n",
              "      <td>0.0</td>\n",
              "      <td>0.0</td>\n",
              "      <td>0.0</td>\n",
              "      <td>0.0</td>\n",
              "      <td>0.0</td>\n",
              "      <td>...</td>\n",
              "      <td>0.0</td>\n",
              "      <td>0.0</td>\n",
              "      <td>1.0</td>\n",
              "      <td>0.0</td>\n",
              "      <td>1.0</td>\n",
              "      <td>0.0</td>\n",
              "      <td>0.0</td>\n",
              "      <td>0</td>\n",
              "      <td>0</td>\n",
              "      <td>0.496349</td>\n",
              "    </tr>\n",
              "    <tr>\n",
              "      <th>2</th>\n",
              "      <td>1.0</td>\n",
              "      <td>0.223382</td>\n",
              "      <td>0.000</td>\n",
              "      <td>0.000000</td>\n",
              "      <td>0.015379</td>\n",
              "      <td>0.0</td>\n",
              "      <td>0.0</td>\n",
              "      <td>0.0</td>\n",
              "      <td>0.0</td>\n",
              "      <td>0.0</td>\n",
              "      <td>...</td>\n",
              "      <td>1.0</td>\n",
              "      <td>0.0</td>\n",
              "      <td>0.0</td>\n",
              "      <td>1.0</td>\n",
              "      <td>0.0</td>\n",
              "      <td>0.0</td>\n",
              "      <td>0.0</td>\n",
              "      <td>0</td>\n",
              "      <td>1</td>\n",
              "      <td>0.507254</td>\n",
              "    </tr>\n",
              "    <tr>\n",
              "      <th>3</th>\n",
              "      <td>0.5</td>\n",
              "      <td>0.423799</td>\n",
              "      <td>0.125</td>\n",
              "      <td>0.000000</td>\n",
              "      <td>0.040989</td>\n",
              "      <td>0.0</td>\n",
              "      <td>0.0</td>\n",
              "      <td>0.0</td>\n",
              "      <td>0.0</td>\n",
              "      <td>0.0</td>\n",
              "      <td>...</td>\n",
              "      <td>0.0</td>\n",
              "      <td>0.0</td>\n",
              "      <td>1.0</td>\n",
              "      <td>0.0</td>\n",
              "      <td>1.0</td>\n",
              "      <td>0.0</td>\n",
              "      <td>0.0</td>\n",
              "      <td>0</td>\n",
              "      <td>0</td>\n",
              "      <td>0.486633</td>\n",
              "    </tr>\n",
              "    <tr>\n",
              "      <th>4</th>\n",
              "      <td>0.5</td>\n",
              "      <td>0.486430</td>\n",
              "      <td>0.000</td>\n",
              "      <td>0.000000</td>\n",
              "      <td>0.050749</td>\n",
              "      <td>0.0</td>\n",
              "      <td>0.0</td>\n",
              "      <td>0.0</td>\n",
              "      <td>0.0</td>\n",
              "      <td>0.0</td>\n",
              "      <td>...</td>\n",
              "      <td>0.0</td>\n",
              "      <td>0.0</td>\n",
              "      <td>1.0</td>\n",
              "      <td>0.0</td>\n",
              "      <td>1.0</td>\n",
              "      <td>0.0</td>\n",
              "      <td>0.0</td>\n",
              "      <td>0</td>\n",
              "      <td>0</td>\n",
              "      <td>0.492885</td>\n",
              "    </tr>\n",
              "    <tr>\n",
              "      <th>5</th>\n",
              "      <td>1.0</td>\n",
              "      <td>0.298538</td>\n",
              "      <td>0.000</td>\n",
              "      <td>0.000000</td>\n",
              "      <td>0.013940</td>\n",
              "      <td>0.0</td>\n",
              "      <td>0.0</td>\n",
              "      <td>0.0</td>\n",
              "      <td>0.0</td>\n",
              "      <td>0.0</td>\n",
              "      <td>...</td>\n",
              "      <td>0.0</td>\n",
              "      <td>0.0</td>\n",
              "      <td>1.0</td>\n",
              "      <td>0.0</td>\n",
              "      <td>1.0</td>\n",
              "      <td>0.0</td>\n",
              "      <td>0.0</td>\n",
              "      <td>1</td>\n",
              "      <td>0</td>\n",
              "      <td>0.460236</td>\n",
              "    </tr>\n",
              "    <tr>\n",
              "      <th>6</th>\n",
              "      <td>0.5</td>\n",
              "      <td>0.160751</td>\n",
              "      <td>0.000</td>\n",
              "      <td>0.111111</td>\n",
              "      <td>0.038061</td>\n",
              "      <td>0.0</td>\n",
              "      <td>0.0</td>\n",
              "      <td>0.0</td>\n",
              "      <td>0.0</td>\n",
              "      <td>0.0</td>\n",
              "      <td>...</td>\n",
              "      <td>0.0</td>\n",
              "      <td>0.0</td>\n",
              "      <td>1.0</td>\n",
              "      <td>1.0</td>\n",
              "      <td>0.0</td>\n",
              "      <td>0.0</td>\n",
              "      <td>0.0</td>\n",
              "      <td>1</td>\n",
              "      <td>1</td>\n",
              "      <td>0.532912</td>\n",
              "    </tr>\n",
              "    <tr>\n",
              "      <th>7</th>\n",
              "      <td>0.0</td>\n",
              "      <td>0.611691</td>\n",
              "      <td>0.125</td>\n",
              "      <td>0.000000</td>\n",
              "      <td>0.111118</td>\n",
              "      <td>0.0</td>\n",
              "      <td>0.0</td>\n",
              "      <td>0.0</td>\n",
              "      <td>0.0</td>\n",
              "      <td>0.0</td>\n",
              "      <td>...</td>\n",
              "      <td>0.0</td>\n",
              "      <td>0.0</td>\n",
              "      <td>0.0</td>\n",
              "      <td>0.0</td>\n",
              "      <td>1.0</td>\n",
              "      <td>0.0</td>\n",
              "      <td>0.0</td>\n",
              "      <td>1</td>\n",
              "      <td>1</td>\n",
              "      <td>0.558536</td>\n",
              "    </tr>\n",
              "    <tr>\n",
              "      <th>8</th>\n",
              "      <td>0.0</td>\n",
              "      <td>0.398747</td>\n",
              "      <td>0.000</td>\n",
              "      <td>0.000000</td>\n",
              "      <td>0.148911</td>\n",
              "      <td>0.0</td>\n",
              "      <td>0.0</td>\n",
              "      <td>0.0</td>\n",
              "      <td>0.0</td>\n",
              "      <td>0.0</td>\n",
              "      <td>...</td>\n",
              "      <td>0.0</td>\n",
              "      <td>0.0</td>\n",
              "      <td>0.0</td>\n",
              "      <td>1.0</td>\n",
              "      <td>0.0</td>\n",
              "      <td>0.0</td>\n",
              "      <td>0.0</td>\n",
              "      <td>1</td>\n",
              "      <td>1</td>\n",
              "      <td>0.633450</td>\n",
              "    </tr>\n",
              "    <tr>\n",
              "      <th>9</th>\n",
              "      <td>0.0</td>\n",
              "      <td>0.260960</td>\n",
              "      <td>0.250</td>\n",
              "      <td>0.222222</td>\n",
              "      <td>0.512122</td>\n",
              "      <td>0.0</td>\n",
              "      <td>0.0</td>\n",
              "      <td>0.0</td>\n",
              "      <td>0.0</td>\n",
              "      <td>0.0</td>\n",
              "      <td>...</td>\n",
              "      <td>0.0</td>\n",
              "      <td>0.0</td>\n",
              "      <td>0.0</td>\n",
              "      <td>1.0</td>\n",
              "      <td>0.0</td>\n",
              "      <td>0.0</td>\n",
              "      <td>0.0</td>\n",
              "      <td>1</td>\n",
              "      <td>1</td>\n",
              "      <td>0.848197</td>\n",
              "    </tr>\n",
              "  </tbody>\n",
              "</table>\n",
              "<p>10 rows × 26 columns</p>\n",
              "</div>"
            ],
            "text/plain": [
              "   pclass       age  sibsp     parch      fare  pclass_nan  age_nan  \\\n",
              "0     0.0  0.724426  0.000  0.222222  0.221098         0.0      0.0   \n",
              "1     0.5  0.386221  0.125  0.111111  0.051237         0.0      0.0   \n",
              "2     1.0  0.223382  0.000  0.000000  0.015379         0.0      0.0   \n",
              "3     0.5  0.423799  0.125  0.000000  0.040989         0.0      0.0   \n",
              "4     0.5  0.486430  0.000  0.000000  0.050749         0.0      0.0   \n",
              "5     1.0  0.298538  0.000  0.000000  0.013940         0.0      0.0   \n",
              "6     0.5  0.160751  0.000  0.111111  0.038061         0.0      0.0   \n",
              "7     0.0  0.611691  0.125  0.000000  0.111118         0.0      0.0   \n",
              "8     0.0  0.398747  0.000  0.000000  0.148911         0.0      0.0   \n",
              "9     0.0  0.260960  0.250  0.222222  0.512122         0.0      0.0   \n",
              "\n",
              "   sibsp_nan  parch_nan  fare_nan  ...  embarked_Q  embarked_Rare  embarked_S  \\\n",
              "0        0.0        0.0       0.0  ...         0.0            0.0         0.0   \n",
              "1        0.0        0.0       0.0  ...         0.0            0.0         1.0   \n",
              "2        0.0        0.0       0.0  ...         1.0            0.0         0.0   \n",
              "3        0.0        0.0       0.0  ...         0.0            0.0         1.0   \n",
              "4        0.0        0.0       0.0  ...         0.0            0.0         1.0   \n",
              "5        0.0        0.0       0.0  ...         0.0            0.0         1.0   \n",
              "6        0.0        0.0       0.0  ...         0.0            0.0         1.0   \n",
              "7        0.0        0.0       0.0  ...         0.0            0.0         0.0   \n",
              "8        0.0        0.0       0.0  ...         0.0            0.0         0.0   \n",
              "9        0.0        0.0       0.0  ...         0.0            0.0         0.0   \n",
              "\n",
              "   title_Miss  title_Mr  title_Mrs  title_Other  y_true  y_pred  proba_pred  \n",
              "0         0.0       1.0        0.0          0.0       0       1    0.641503  \n",
              "1         0.0       1.0        0.0          0.0       0       0    0.496349  \n",
              "2         1.0       0.0        0.0          0.0       0       1    0.507254  \n",
              "3         0.0       1.0        0.0          0.0       0       0    0.486633  \n",
              "4         0.0       1.0        0.0          0.0       0       0    0.492885  \n",
              "5         0.0       1.0        0.0          0.0       1       0    0.460236  \n",
              "6         1.0       0.0        0.0          0.0       1       1    0.532912  \n",
              "7         0.0       1.0        0.0          0.0       1       1    0.558536  \n",
              "8         1.0       0.0        0.0          0.0       1       1    0.633450  \n",
              "9         1.0       0.0        0.0          0.0       1       1    0.848197  \n",
              "\n",
              "[10 rows x 26 columns]"
            ]
          },
          "execution_count": 94,
          "metadata": {},
          "output_type": "execute_result"
        }
      ],
      "source": [
        "tmp = pd.DataFrame(X_test_scaled, columns=X_train.columns)\n",
        "tmp['y_true'] = np.array(y_test)\n",
        "tmp['y_pred'] = model.predict(X_test)\n",
        "tmp['proba_pred'] = model.predict_proba(X_test)[:,1]\n",
        "\n",
        "tmp.head(10)"
      ]
    },
    {
      "cell_type": "code",
      "execution_count": null,
      "metadata": {
        "id": "c30iH9YCWW_W"
      },
      "outputs": [],
      "source": []
    }
  ],
  "metadata": {
    "colab": {
      "collapsed_sections": [],
      "name": "nb-actividad.ipynb",
      "provenance": [],
      "toc_visible": true
    },
    "kernelspec": {
      "display_name": "Python 3",
      "language": "python",
      "name": "python3"
    },
    "language_info": {
      "codemirror_mode": {
        "name": "ipython",
        "version": 3
      },
      "file_extension": ".py",
      "mimetype": "text/x-python",
      "name": "python",
      "nbconvert_exporter": "python",
      "pygments_lexer": "ipython3",
      "version": "3.10.4"
    }
  },
  "nbformat": 4,
  "nbformat_minor": 0
}
